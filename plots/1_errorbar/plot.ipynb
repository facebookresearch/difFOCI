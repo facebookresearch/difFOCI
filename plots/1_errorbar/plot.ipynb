{
 "cells": [
  {
   "cell_type": "code",
   "execution_count": 1,
   "metadata": {},
   "outputs": [],
   "source": [
    "import numpy as np\n",
    "import torch\n",
    "import matplotlib.pyplot as plt\n",
    "\n",
    "import matplotlib.pyplot as plt\n",
    "import os\n",
    "import random"
   ]
  },
  {
   "cell_type": "code",
   "execution_count": 2,
   "metadata": {},
   "outputs": [],
   "source": [
    "def seed_torch(seed=12345):\n",
    "    random.seed(seed)\n",
    "    os.environ['PYTHONHASHSEED'] = str(seed)\n",
    "    np.random.seed(seed)\n",
    "    torch.manual_seed(seed)\n",
    "    torch.cuda.manual_seed(seed)\n",
    "    torch.cuda.manual_seed_all(seed)"
   ]
  },
  {
   "cell_type": "code",
   "execution_count": 3,
   "metadata": {},
   "outputs": [],
   "source": [
    "from difFOCI.conditional_dependence import conditional_dependence as T\n",
    "b, c_1, c_2, c_3, d, e = [], [], [], [], [], []\n",
    "\n",
    "seed_torch()\n",
    "for i in range(50):\n",
    "    n = 1000\n",
    "    p = 10\n",
    "    x = np.random.normal(0, 1, (n, p))\n",
    "    y = np.sin(x[:, 0]) + np.sin(x[:, 1]) + np.sin(x[:, 2])\n",
    "\n",
    "    # all three\n",
    "    b.append(T(y=y.squeeze(), z=np.vstack((np.sin(x[:, 0]), np.sin(x[:, 1]), np.sin(\n",
    "        x[:, 2]))).T)-T(y=y.squeeze(), z=np.vstack((x[:, 0], x[:, 1], x[:, 2])).T))\n",
    "\n",
    "    # first + second, third\n",
    "    c_1.append(T(y=y.squeeze(), z=np.vstack((np.sin(x[:, 0])+np.sin(x[:, 1]), np.sin(\n",
    "        x[:, 2]))).T)-T(y=y.squeeze(), z=np.vstack((x[:, 0]+x[:, 1], x[:, 2])).T))\n",
    "    c_2.append(T(y=y.squeeze(), z=np.vstack((np.sin(x[:, 0])+np.sin(x[:, 2]), np.sin(\n",
    "        x[:, 1]))).T)-T(y=y.squeeze(), z=np.vstack((x[:, 0]+x[:, 2], x[:, 1])).T))\n",
    "    c_3.append(T(y=y.squeeze(), z=np.vstack((np.sin(x[:, 1])+np.sin(x[:, 2]), np.sin(\n",
    "        x[:, 0]))).T)-T(y=y.squeeze(), z=np.vstack((x[:, 1]+x[:, 2], x[:, 0])).T))\n",
    "\n",
    "    # first + second + third\n",
    "    d.append(T(y=y.squeeze(), z=((np.sin(x[:, 0])+np.sin(x[:, 1])+np.sin(x[:, 2]))).T)-T(\n",
    "        y=y.squeeze(), z=((x[:, 0]+x[:, 1] + x[:, 2])).T))\n",
    "\n",
    "    # a_3.append three - three separately\n",
    "    e.append(T(y=y.squeeze(), z=((np.sin(x[:, 0])+np.sin(x[:, 1])+np.sin(x[:, 2]))).T)-T(\n",
    "        y=y.squeeze(), z=np.vstack((np.sin(x[:, 0]), np.sin(x[:, 1]), np.sin(x[:, 2]))).T))\n",
    "\n",
    "means, stds = [], []\n",
    "for arr in c_1, c_2, c_3, b, d, e:\n",
    "    means.append(np.mean(np.array(arr)))\n",
    "    stds.append(np.std(np.array(arr)))"
   ]
  },
  {
   "cell_type": "code",
   "execution_count": 6,
   "metadata": {},
   "outputs": [
    {
     "data": {
      "image/png": "[encoded data removed]",
      "text/plain": [
       "<Figure size 360x240 with 1 Axes>"
      ]
     },
     "metadata": {},
     "output_type": "display_data"
    }
   ],
   "source": [
    "# Plot: mean with standard deviations as errorbars\n",
    "scale = 0.4\n",
    "plt.figure(figsize=(scale*9, scale*6))\n",
    "plt.errorbar(np.arange(len(means)), means, yerr=stds, label='Obs. 1(a)',color='green', fmt='_', capsize=3)\n",
    "plt.errorbar(np.array([3]), means[3], yerr=stds[3], label='Obs. 1(b)',color='blue', fmt='_', capsize=3)\n",
    "plt.errorbar(np.array([4]), means[4], yerr=stds[4], label='Obs. 1(c)',color='brown', fmt='_', capsize=3)\n",
    "plt.errorbar(np.array([5]), means[5], yerr=stds[5], label='Obs. 2',color='orange', fmt='_', capsize=3)\n",
    "plt.legend(loc='center left', bbox_to_anchor=(1, 0.5))\n",
    "plt.axhline(y=0, color='r', linestyle='--')\n",
    "plt.xticks([0,1,2,3,4,5])\n",
    "plt.tight_layout()\n",
    "plt.savefig('errorbar.png')\n",
    "plt.savefig('errorbar.pdf')\n",
    "plt.show()"
   ]
  }
 ],
 "metadata": {
  "kernelspec": {
   "display_name": "Python 3",
   "language": "python",
   "name": "python3"
  },
  "language_info": {
   "codemirror_mode": {
    "name": "ipython",
    "version": 3
   },
   "file_extension": ".py",
   "mimetype": "text/x-python",
   "name": "python",
   "nbconvert_exporter": "python",
   "pygments_lexer": "ipython3",
   "version": "3.8.5"
  }
 },
 "nbformat": 4,
 "nbformat_minor": 2
}
